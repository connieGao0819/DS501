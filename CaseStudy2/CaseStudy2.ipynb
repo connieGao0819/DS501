{
 "cells": [
  {
   "cell_type": "markdown",
   "metadata": {},
   "source": [
    "# Case Study 2 : Analyzing data from MovieLens\n",
    "\n",
    "** Due Date: Due Date: October 26, BEFORE the beginning of class at 6:00pm **\n",
    "\n",
    "**NOTE: There are always last minute issues submitting the case studies. DO NOT WAIT UNTIL THE LAST MINUTE!**\n",
    "\n",
    "*------------"
   ]
  },
  {
   "cell_type": "markdown",
   "metadata": {},
   "source": [
    "## The MovieLens data sets\n",
    "\n",
    "<img src=\"https://pbs.twimg.com/profile_images/378800000380161537/b6fa868dce43807d4e67462587d0b0d2_400x400.png\">\n",
    "\n",
    "http://grouplens.org/datasets/movielens/\n",
    "\n"
   ]
  },
  {
   "cell_type": "code",
   "execution_count": 1,
   "metadata": {
    "collapsed": true
   },
   "outputs": [],
   "source": [
    "from IPython.lib.display import YouTubeVideo"
   ]
  },
  {
   "cell_type": "code",
   "execution_count": 3,
   "metadata": {},
   "outputs": [
    {
     "data": {
      "image/jpeg": "[encoded data removed]",
      "text/html": [
       "\n",
       "        <iframe\n",
       "            width=\"400\"\n",
       "            height=\"300\"\n",
       "            src=\"https://www.youtube.com/embed/4tW9HY0Q460\"\n",
       "            frameborder=\"0\"\n",
       "            allowfullscreen\n",
       "        ></iframe>\n",
       "        "
      ],
      "text/plain": [
       "<IPython.lib.display.YouTubeVideo at 0x2487d6cea90>"
      ]
     },
     "execution_count": 3,
     "metadata": {},
     "output_type": "execute_result"
    }
   ],
   "source": [
    "YouTubeVideo('4tW9HY0Q460')"
   ]
  },
  {
   "cell_type": "markdown",
   "metadata": {},
   "source": [
    "**TEAM Members:** Please EDIT this cell and add the names of all the team members in your team\n",
    "\n",
    "    Tingting Ma\n",
    "    \n",
    "    Jiani Gao\n",
    "    \n",
    "    Jinyan Lyu\n",
    "    \n",
    "    Tianhao Guo\n",
    "    \n",
    "    Mo Cheng"
   ]
  },
  {
   "cell_type": "markdown",
   "metadata": {},
   "source": [
    "**Desired outcome of the case study.**\n",
    "* In this case study we will look at the MovieLens 1M Data Set.\n",
    "    * It contains data about users and how the rate movies.\n",
    "* The idea is to *analyze* the data set, make *conjectures*, support or refute those conjectures with *data*, and *tell a story* about the data!\n",
    "    \n",
    "**Required Readings:** \n",
    "* Chapter 2 (only the section on the MovieLens 1M Data Set), Chapter 5, Chapter 6,\n",
    "and Chapter 8 of the book [Python for Data Analysis](http://shop.oreilly.com/product/0636920023784.do)  (available from the WPI library as an e-book).\n",
    "* If you want your code to be really compact then you might want to also look into the pivot_table method of Panda's DataFrame, though there are many other ways to complete the case study!\n",
    "\n",
    "**Case study assumptions:**\n",
    "* You have access to a Python installation\n",
    "\n",
    "**Required Python libraries:**\n",
    "* Pandas (pandas.pydata.org)\n",
    "* Matplotlib (matplotlib.org)\n",
    "* If you need help installing them then you can refer to the Anaconda documentation of Chapter 1 of Python for Data Analysis book above \n",
    "\n",
    "** NOTE **\n",
    "* Please don't forget to save the notebook frequently when working in IPython Notebook, otherwise the changes you made can be lost.\n",
    "\n",
    "*----------------------"
   ]
  },
  {
   "cell_type": "markdown",
   "metadata": {},
   "source": [
    "# Problem 1 (20 points total): \n",
    "\n",
    "## (10 points) Importing the MovieLens data set and merging it into a single Pandas DataFrame"
   ]
  },
  {
   "cell_type": "markdown",
   "metadata": {},
   "source": [
    "* Download the 1 million ratings data set from http://grouplens.org/datasets/movielens/ (though if you are feeling adventerous you can download the 10 million ratings file instead)\n",
    "* Merge all of the data into a single Pandas DataFrame\n",
    "* Store the data into an HDF5 file.\n",
    "\n",
    "## (10 points) Report some basic details of the data you collected.  For example:\n",
    "\n",
    "*  How many movies have an average rating over 4.5 overall?\n",
    "*  How many movies have an average rating over 4.5 among men?  How about women?\n",
    "*  How many movies have an *median* rating over 4.5 among men over age 30?  How about women over age 30?\n",
    "*  What are the ten most popular movies?\n",
    "    * Choose what you consider to be a reasonable defintion of \"popular\".\n",
    "    * Be perpared to defend this choice.\n",
    "*  Make some conjectures about how easy various groups are to please? Support your answers with data!  \n",
    "    *  For example, one might conjecture that people between the ages of 1 and 10 are the easiest to please since they are all young children.  This conjecture may or may not be true, but how would you support or disprove either conclusion with with data?\n",
    "    *  Be sure to come up with your own conjectures and support them with data!\n"
   ]
  },
  {
   "cell_type": "code",
   "execution_count": 1,
   "metadata": {},
   "outputs": [
    {
     "data": {
      "text/plain": [
       "<class 'pandas.io.pytables.HDFStore'>\n",
       "File path: ml-1m.h5\n",
       "/obj1            frame        (shape->[1000209,10])"
      ]
     },
     "execution_count": 1,
     "metadata": {},
     "output_type": "execute_result"
    }
   ],
   "source": [
    "import pandas as pd\n",
    "\n",
    "#-------------------------------\n",
    "# Your code goes here.\n",
    "# Add as many cells as you need\n",
    "#-------------------------------\n",
    "unames = ['user_id', 'gender', 'age', 'occupation', 'zip']\n",
    "users = pd.read_table('ml-1m/users.dat', sep='::', header=None, names=unames, engine='python')\n",
    "\n",
    "rnames = ['user_id', 'movie_id', 'rating', 'timestamp']\n",
    "ratings = pd.read_table('ml-1m/ratings.dat', sep='::', header=None, names=rnames, engine='python')\n",
    "                        \n",
    "mnames = ['movie_id', 'title', 'genres']\n",
    "movies = pd.read_table('ml-1m/movies.dat', sep='::', header=None, names=mnames, engine='python')                       \n",
    "\n",
    "data = pd.merge(pd.merge(ratings, users), movies)\n",
    "\n",
    "store = pd.HDFStore('ml-1m.h5')\n",
    "store['obj1']  = data\n",
    "store\n"
   ]
  },
  {
   "cell_type": "code",
   "execution_count": 2,
   "metadata": {},
   "outputs": [
    {
     "name": "stdout",
     "output_type": "stream",
     "text": [
      "Number of movies with average rating over 4.5 overall: \n",
      "29\n",
      "Number of movies with average rating over 4.5 among men: \n",
      "29\n",
      "Number of movies with average rating over 4.5 among women: \n",
      "70\n"
     ]
    }
   ],
   "source": [
    "# How many movies have an average rating over 4.5 overall?\n",
    "data_by_title = data.groupby('title')\n",
    "mean_ratings = data_by_title.rating.mean()\n",
    "result_index1 = mean_ratings.index[mean_ratings >= 4.5]\n",
    "count1 = mean_ratings[result_index1].count()\n",
    "print('Number of movies with average rating over 4.5 overall: ')\n",
    "print(count1)\n",
    "\n",
    "# How many movies have an average rating over 4.5 among men? How about women?\n",
    "men_movies = data[data.gender == 'M'].groupby('title')\n",
    "mean_men_ratings = men_movies.rating.mean()\n",
    "result_index2 = mean_men_ratings.index[mean_men_ratings >= 4.5]\n",
    "count2 = mean_men_ratings[result_index2].count()\n",
    "print('Number of movies with average rating over 4.5 among men: ')\n",
    "print(count2)\n",
    "\n",
    "women_movies = data[data.gender == 'F'].groupby('title')\n",
    "mean_women_ratings = women_movies.rating.mean()\n",
    "result_index3 = mean_women_ratings.index[mean_women_ratings >= 4.5]\n",
    "count3 = mean_women_ratings[result_index3].count()\n",
    "print('Number of movies with average rating over 4.5 among women: ')\n",
    "print(count3)"
   ]
  },
  {
   "cell_type": "code",
   "execution_count": 3,
   "metadata": {},
   "outputs": [
    {
     "name": "stdout",
     "output_type": "stream",
     "text": [
      "Number of movies with median rating over 4.5 among men over age 30: \n",
      "105\n",
      "Number of movies with median rating over 4.5 among women over age 30: \n",
      "187\n"
     ]
    }
   ],
   "source": [
    "# How many movies have an median rating over 4.5 among men over age 30? How about women over age 30?\n",
    "all_men_movies = data[data.gender == 'M']\n",
    "over_thirty_men_movies = all_men_movies[all_men_movies.age >= 30].groupby('title')\n",
    "median_over_thirty_men_movies = over_thirty_men_movies.rating.median()\n",
    "result_index4 = median_over_thirty_men_movies.index[median_over_thirty_men_movies >= 4.5]\n",
    "count4 = median_over_thirty_men_movies[result_index4].count()\n",
    "print('Number of movies with median rating over 4.5 among men over age 30: ')\n",
    "print(count4)\n",
    "\n",
    "all_women_movies = data[data.gender == 'F']\n",
    "over_thirty_women_movies = all_women_movies[all_women_movies.age >= 30].groupby('title')\n",
    "median_over_thirty_women_movies = over_thirty_women_movies.rating.median()\n",
    "result_index5 = median_over_thirty_women_movies.index[median_over_thirty_women_movies >= 4.5]\n",
    "count5 = median_over_thirty_women_movies[result_index5].count()\n",
    "print('Number of movies with median rating over 4.5 among women over age 30: ')\n",
    "print(count5)\n"
   ]
  },
  {
   "cell_type": "code",
   "execution_count": 4,
   "metadata": {},
   "outputs": [
    {
     "data": {
      "text/plain": [
       "title\n",
       "Gate of Heavenly Peace, The (1995)                                     5.000000\n",
       "Lured (1947)                                                           5.000000\n",
       "Ulysses (Ulisse) (1954)                                                5.000000\n",
       "Smashing Time (1967)                                                   5.000000\n",
       "Follow the Bitch (1998)                                                5.000000\n",
       "Song of Freedom (1936)                                                 5.000000\n",
       "Bittersweet Motel (2000)                                               5.000000\n",
       "Baby, The (1973)                                                       5.000000\n",
       "One Little Indian (1973)                                               5.000000\n",
       "Schlafes Bruder (Brother of Sleep) (1995)                              5.000000\n",
       "I Am Cuba (Soy Cuba/Ya Kuba) (1964)                                    4.800000\n",
       "Lamerica (1994)                                                        4.750000\n",
       "Apple, The (Sib) (1998)                                                4.666667\n",
       "Sanjuro (1962)                                                         4.608696\n",
       "Seven Samurai (The Magnificent Seven) (Shichinin no samurai) (1954)    4.560510\n",
       "Shawshank Redemption, The (1994)                                       4.554558\n",
       "Godfather, The (1972)                                                  4.524966\n",
       "Close Shave, A (1995)                                                  4.520548\n",
       "Usual Suspects, The (1995)                                             4.517106\n",
       "Schindler's List (1993)                                                4.510417\n",
       "Name: rating, dtype: float64"
      ]
     },
     "execution_count": 4,
     "metadata": {},
     "output_type": "execute_result"
    }
   ],
   "source": [
    "# What are the ten most popular movies?\n",
    "\n",
    "#First, we collect the top 20 mean ratings \n",
    "sorted_mean_ratings = mean_ratings.sort_values(ascending=False)\n",
    "sorted_mean_ratings[:20]"
   ]
  },
  {
   "cell_type": "code",
   "execution_count": 5,
   "metadata": {},
   "outputs": [
    {
     "data": {
      "text/plain": [
       "title\n",
       "American Beauty (1999)                                   3428\n",
       "Star Wars: Episode IV - A New Hope (1977)                2991\n",
       "Star Wars: Episode V - The Empire Strikes Back (1980)    2990\n",
       "Star Wars: Episode VI - Return of the Jedi (1983)        2883\n",
       "Jurassic Park (1993)                                     2672\n",
       "Saving Private Ryan (1998)                               2653\n",
       "Terminator 2: Judgment Day (1991)                        2649\n",
       "Matrix, The (1999)                                       2590\n",
       "Back to the Future (1985)                                2583\n",
       "Silence of the Lambs, The (1991)                         2578\n",
       "Men in Black (1997)                                      2538\n",
       "Raiders of the Lost Ark (1981)                           2514\n",
       "Fargo (1996)                                             2513\n",
       "Sixth Sense, The (1999)                                  2459\n",
       "Braveheart (1995)                                        2443\n",
       "Shakespeare in Love (1998)                               2369\n",
       "Princess Bride, The (1987)                               2318\n",
       "Schindler's List (1993)                                  2304\n",
       "L.A. Confidential (1997)                                 2288\n",
       "Groundhog Day (1993)                                     2278\n",
       "Name: rating, dtype: int64"
      ]
     },
     "execution_count": 5,
     "metadata": {},
     "output_type": "execute_result"
    }
   ],
   "source": [
    "#Then, we consider the rating times of each movie\n",
    "rating_times = data.groupby('title').rating.size().sort_values(ascending=False)\n",
    "rating_times[:20]"
   ]
  },
  {
   "cell_type": "code",
   "execution_count": 6,
   "metadata": {},
   "outputs": [
    {
     "data": {
      "text/plain": [
       "title\n",
       "Shawshank Redemption, The (1994)                                               4.554558\n",
       "Godfather, The (1972)                                                          4.524966\n",
       "Usual Suspects, The (1995)                                                     4.517106\n",
       "Schindler's List (1993)                                                        4.510417\n",
       "Raiders of the Lost Ark (1981)                                                 4.477725\n",
       "Rear Window (1954)                                                             4.476190\n",
       "Star Wars: Episode IV - A New Hope (1977)                                      4.453694\n",
       "Dr. Strangelove or: How I Learned to Stop Worrying and Love the Bomb (1963)    4.449890\n",
       "Casablanca (1942)                                                              4.412822\n",
       "Sixth Sense, The (1999)                                                        4.406263\n",
       "Maltese Falcon, The (1941)                                                     4.395973\n",
       "One Flew Over the Cuckoo's Nest (1975)                                         4.390725\n",
       "Citizen Kane (1941)                                                            4.388889\n",
       "North by Northwest (1959)                                                      4.384030\n",
       "Godfather: Part II, The (1974)                                                 4.357565\n",
       "Silence of the Lambs, The (1991)                                               4.351823\n",
       "Chinatown (1974)                                                               4.339241\n",
       "Saving Private Ryan (1998)                                                     4.337354\n",
       "Monty Python and the Holy Grail (1974)                                         4.335210\n",
       "Life Is Beautiful (La Vita � bella) (1997)                                     4.329861\n",
       "Name: rating, dtype: float64"
      ]
     },
     "execution_count": 6,
     "metadata": {},
     "output_type": "execute_result"
    }
   ],
   "source": [
    "# At last we decide to plot movies of top 20 mean ratings with rating times >= 1000\n",
    "result_index6 = rating_times.index[rating_times >= 1000]\n",
    "popular_movies = sorted_mean_ratings[result_index6].sort_values(ascending=False)\n",
    "popular_movies[:20]"
   ]
  },
  {
   "cell_type": "code",
   "execution_count": 7,
   "metadata": {},
   "outputs": [
    {
     "name": "stdout",
     "output_type": "stream",
     "text": [
      "Number of movies with average rating over 4.5 among men under age 25: \n",
      "42\n",
      "Number of movies with average rating over 4.5 among women over age 25: \n",
      "85\n",
      "Number of movies with average rating over 4.5 among men over age 25: \n",
      "36\n",
      "Number of movies with average rating over 4.5 among women over age 25: \n",
      "77\n"
     ]
    }
   ],
   "source": [
    "# Make some conjectures about how easy various groups are to please? Support your answers with data!\n",
    "\n",
    "# First we consider the number of movies with average rating over 4.5 among men and women under age 25\n",
    "under_twentyfive_men_movies = all_men_movies[all_men_movies.age <= 25].groupby('title')\n",
    "mean_under_twentyfive_men_movies = under_twentyfive_men_movies.rating.mean()\n",
    "result_index7 = mean_under_twentyfive_men_movies.index[mean_under_twentyfive_men_movies >= 4.5]\n",
    "count7 = mean_under_twentyfive_men_movies[result_index7].count()\n",
    "print('Number of movies with average rating over 4.5 among men under age 25: ')\n",
    "print(count7)\n",
    "\n",
    "under_twentyfive_women_movies = all_women_movies[all_women_movies.age <= 25].groupby('title')\n",
    "mean_under_twentyfive_women_movies = under_twentyfive_women_movies.rating.mean()\n",
    "result_index8 = mean_under_twentyfive_women_movies.index[mean_under_twentyfive_women_movies >= 4.5]\n",
    "count8 = mean_under_twentyfive_women_movies[result_index8].count()\n",
    "print('Number of movies with average rating over 4.5 among women over age 25: ')\n",
    "print(count8)\n",
    "\n",
    "# Then we consider the number of movies with average rating over 4.5 among men and women over age 25\n",
    "over_twentyfive_men_movies = all_men_movies[all_men_movies.age >= 25].groupby('title')\n",
    "mean_over_twentyfive_men_movies = over_twentyfive_men_movies.rating.mean()\n",
    "result_index9 = mean_over_twentyfive_men_movies.index[mean_over_twentyfive_men_movies >= 4.5]\n",
    "count9 = mean_over_twentyfive_men_movies[result_index9].count()\n",
    "print('Number of movies with average rating over 4.5 among men over age 25: ')\n",
    "print(count9)\n",
    "\n",
    "over_twentyfive_women_movies = all_women_movies[all_women_movies.age >= 25].groupby('title')\n",
    "mean_over_twentyfive_women_movies = over_twentyfive_women_movies.rating.mean()\n",
    "result_index10 = mean_over_twentyfive_women_movies.index[mean_over_twentyfive_women_movies >= 4.5]\n",
    "count10 = mean_over_twentyfive_women_movies[result_index10].count()\n",
    "print('Number of movies with average rating over 4.5 among women over age 25: ')\n",
    "print(count10)"
   ]
  },
  {
   "cell_type": "code",
   "execution_count": 8,
   "metadata": {},
   "outputs": [
    {
     "data": {
      "text/html": [
       "<div>\n",
       "<style>\n",
       "    .dataframe thead tr:only-child th {\n",
       "        text-align: right;\n",
       "    }\n",
       "\n",
       "    .dataframe thead th {\n",
       "        text-align: left;\n",
       "    }\n",
       "\n",
       "    .dataframe tbody tr th {\n",
       "        vertical-align: top;\n",
       "    }\n",
       "</style>\n",
       "<table border=\"1\" class=\"dataframe\">\n",
       "  <thead>\n",
       "    <tr style=\"text-align: right;\">\n",
       "      <th>gender</th>\n",
       "      <th>F</th>\n",
       "      <th>M</th>\n",
       "    </tr>\n",
       "    <tr>\n",
       "      <th>age</th>\n",
       "      <th></th>\n",
       "      <th></th>\n",
       "    </tr>\n",
       "  </thead>\n",
       "  <tbody>\n",
       "    <tr>\n",
       "      <th>1</th>\n",
       "      <td>3.616291</td>\n",
       "      <td>3.517461</td>\n",
       "    </tr>\n",
       "    <tr>\n",
       "      <th>18</th>\n",
       "      <td>3.453145</td>\n",
       "      <td>3.525476</td>\n",
       "    </tr>\n",
       "    <tr>\n",
       "      <th>25</th>\n",
       "      <td>3.606700</td>\n",
       "      <td>3.526780</td>\n",
       "    </tr>\n",
       "    <tr>\n",
       "      <th>35</th>\n",
       "      <td>3.659653</td>\n",
       "      <td>3.604434</td>\n",
       "    </tr>\n",
       "    <tr>\n",
       "      <th>45</th>\n",
       "      <td>3.663044</td>\n",
       "      <td>3.627942</td>\n",
       "    </tr>\n",
       "    <tr>\n",
       "      <th>50</th>\n",
       "      <td>3.797110</td>\n",
       "      <td>3.687098</td>\n",
       "    </tr>\n",
       "    <tr>\n",
       "      <th>56</th>\n",
       "      <td>3.915534</td>\n",
       "      <td>3.720327</td>\n",
       "    </tr>\n",
       "  </tbody>\n",
       "</table>\n",
       "</div>"
      ],
      "text/plain": [
       "gender         F         M\n",
       "age                       \n",
       "1       3.616291  3.517461\n",
       "18      3.453145  3.525476\n",
       "25      3.606700  3.526780\n",
       "35      3.659653  3.604434\n",
       "45      3.663044  3.627942\n",
       "50      3.797110  3.687098\n",
       "56      3.915534  3.720327"
      ]
     },
     "execution_count": 8,
     "metadata": {},
     "output_type": "execute_result"
    }
   ],
   "source": [
    "# At last we compare the average ratings over different ages \n",
    "compare_data = data.pivot_table('rating', index = ['age'], columns = 'gender', aggfunc='mean')\n",
    "compare_data"
   ]
  },
  {
   "cell_type": "markdown",
   "metadata": {},
   "source": [
    "# Problem 2 (20 points total): Expand our investigation to histograms\n",
    "\n",
    "**An obvious issue with any inferences drawn from Problem 1 is that we did not consider how many times a movie was rated.** \n",
    "* (2 points) Plot a histogram of the ratings of all movies.\n",
    "* (2 points) Plot a histogram of the *number* of ratings each movie recieved.\n",
    "* (2 points) Plot a histogram of the *average rating* for each movie.\n",
    "* (6 points) Plot a histogram of the *average rating* for movies which are rated more than 100 times.\n",
    "    * What do you observe about the tails of the histogram where you use all the movies versus the one where you only use movies rated more than 100 times?\n",
    "    * Which highly rated movies would you trust are actually good?  Those rated more than 100 times or those rated less than 100 times?\n",
    "* (8 points) Make some conjectures about the distribution of ratings? Support your answers with data!  \n",
    "    *  For example, what age range do you think has more extreme ratings?  Do you think children are more or less likely to rate a movie 1 or 5?\n",
    "    *  Be sure to come up with your own conjectures and support them with data!"
   ]
  },
  {
   "cell_type": "code",
   "execution_count": 4,
   "metadata": {
    "collapsed": true
   },
   "outputs": [],
   "source": [
    "#-------------------------------\n",
    "# Your code goes here.\n",
    "# Add as many cells as you need\n",
    "#-------------------------------"
   ]
  },
  {
   "cell_type": "markdown",
   "metadata": {},
   "source": [
    "*------------------------\n",
    "\n",
    "# Problem 3: (20 points total)\n",
    "## Correlation:  Men versus women\n",
    "\n",
    "Let look more closely at the relationship between the pieces of data we have."
   ]
  },
  {
   "cell_type": "markdown",
   "metadata": {},
   "source": [
    "* (2 points) Make a scatter plot of men versus women and their mean rating for every movie.\n",
    "* (2 points) Make a scatter plot of men versus women and their mean rating for movies rated more than 200 times.\n",
    "* (6 points) Compute the *correlation coefficent* between the ratings of men and women.\n",
    "    * What do you observe?\n",
    "    * Are the ratings similiar or not? Support your answer with data!\n",
    "* (10 points) Conjecture under what circumstances the rating given by one gender can be used to predict the rating given by the other gender.\n",
    "    * For example, are men and women more similar when they are younger or older?\n",
    "    * Be sure to come up with your own conjectures and support them with data!"
   ]
  },
  {
   "cell_type": "code",
   "execution_count": 5,
   "metadata": {
    "collapsed": true
   },
   "outputs": [],
   "source": [
    "#-------------------------------\n",
    "# Your code goes here.\n",
    "# Add as many cells as you need\n",
    "#-------------------------------"
   ]
  },
  {
   "cell_type": "markdown",
   "metadata": {},
   "source": [
    "*------------------------\n",
    "\n",
    "# Problem 4: (20 points total)\n",
    "## Open Ended Question:  Business Intelligence"
   ]
  },
  {
   "cell_type": "markdown",
   "metadata": {},
   "source": [
    "* Do any of your conjectures in Problems 1, 2, and 3 provide insights that a movie company might be interested in?\n",
    "* Propose a business question that you think this data can answer.\n",
    "* Suppose you are a Data Sciencetist at a movie company.  **Convince your boss that your conjecture is correct!**"
   ]
  },
  {
   "cell_type": "markdown",
   "metadata": {},
   "source": [
    "# Report: communicate the results (20 points)\n",
    "\n",
    "(1) (5 points) What data you collected?\n",
    "\n",
    "(2) (5 points) Why this topic is interesting or important to you? (Motivations)\n",
    "\n",
    "(3) (5 points) How did you analyse the data?\n",
    "\n",
    "(4) (5 points) What did you find in the data?\n",
    "(please include figures or tables in the report, but no source code)"
   ]
  },
  {
   "cell_type": "markdown",
   "metadata": {},
   "source": [
    "# Slides (for 10 minutes of presentation) (20 points)\n",
    "\n",
    "\n",
    "1. (5 points) Motivation about the data collection, why the topic is interesting to you. \n",
    "\n",
    "2. (10 points) Communicating Results (figure/table)\n",
    "\n",
    "3. (5 points) Story telling (How all the parts (data, analysis, result) fit together as a story?)"
   ]
  },
  {
   "cell_type": "markdown",
   "metadata": {},
   "source": [
    "*-----------------\n",
    "# Done\n",
    "\n",
    "All set! \n",
    "\n",
    "** What do you need to submit?**\n",
    "\n",
    "* **Notebook File**: Save this IPython notebook, and find the notebook file in your folder (for example, \"filename.ipynb\"). This is the file you need to submit. Please make sure all the plotted tables and figures are in the notebook. If you used \"ipython notebook --pylab=inline\" to open the notebook, all the figures and tables should have shown up in the notebook.\n",
    "\n",
    "\n",
    "* **PPT Slides**: please prepare PPT slides (for 10 minutes' talk) to present about the case study . We will ask two teams which are randomly selected to present their case studies in class for this case study. \n",
    "\n",
    "* ** Report**: please prepare a report (less than 10 pages) to report what you found in the data.\n",
    "    * What is the relationship between this topic and Business Intelligence?\n",
    "    * How did you analyse the data?\n",
    "    * What did you find in the data? \n",
    "    * What conjectures did you make and how did you support or disprove them using data?\n",
    "    * Did you find anything suprising in the data?\n",
    "    * What business decision do you think this data could help answer?  Why?\n",
    "\n",
    "     (please include figures or tables in the report, **but no source code**)\n",
    "\n",
    "*----------------------\n",
    "Please compress all the files in a zipped file.\n",
    "\n",
    "\n",
    "** How to submit: **\n",
    "\n",
    "        Please submit through email to Prof. Paffenroth (rcpaffenroth@wpi.edu) *and* the TA Yingnan Liu (yliu18@wpi.edu).\n",
    "\n",
    "#### We auto-process the submissions so make sure your subject line is *exactly*:\n",
    "\n",
    "### DS501 Case Study 2 Team ??\n",
    "\n",
    "#### where ?? is your team number.\n",
    "        \n",
    "** Note: Each team just needs to submits one submission **"
   ]
  },
  {
   "cell_type": "code",
   "execution_count": null,
   "metadata": {
    "collapsed": true
   },
   "outputs": [],
   "source": []
  }
 ],
 "metadata": {
  "anaconda-cloud": {},
  "kernelspec": {
   "display_name": "Python 3",
   "language": "python",
   "name": "python3"
  },
  "language_info": {
   "codemirror_mode": {
    "name": "ipython",
    "version": 3
   },
   "file_extension": ".py",
   "mimetype": "text/x-python",
   "name": "python",
   "nbconvert_exporter": "python",
   "pygments_lexer": "ipython3",
   "version": "3.6.1"
  }
 },
 "nbformat": 4,
 "nbformat_minor": 1
}
