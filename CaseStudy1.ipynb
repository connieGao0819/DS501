{
 "cells": [
  {
   "cell_type": "markdown",
   "metadata": {},
   "source": [
    "# Case Study 1 : Collecting Data from Twitter\n",
    "\n",
    "Due Date: September 21, **BEFORE the beginning of class at 6:00pm**\n",
    "\n",
    "## **NOTE: There are *always* last minute issues submitting the case studies.  DO NOT WAIT UNTIL THE LAST MINUTE!**\n",
    "\n",
    "* ------------"
   ]
  },
  {
   "cell_type": "markdown",
   "metadata": {},
   "source": [
    "<img src=\"https://upload.wikimedia.org/wikipedia/en/thumb/9/9f/Twitter_bird_logo_2012.svg/220px-Twitter_bird_logo_2012.svg.png\">"
   ]
  },
  {
   "cell_type": "markdown",
   "metadata": {},
   "source": [
    "**TEAM Members:** Please EDIT this cell and add the names of all the team members in your team\n",
    "\n",
    "    Tingting Ma\n",
    "    \n",
    "    Jiani Gao\n",
    "    \n",
    "    Jinyan Lyu\n",
    "    \n",
    "    Tianhao Guo\n",
    "    \n",
    "    Mo Cheng\n",
    "    "
   ]
  },
  {
   "cell_type": "markdown",
   "metadata": {},
   "source": [
    "**Required Readings:** \n",
    "* Chapter 1 and Chapter 9 of the book [Mining the Social Web](http://www.learndatasci.com/wp-content/uploads/2015/08/Mining-the-Social-Web-2nd-Edition.pdf) \n",
    "* The codes for [Chapter 1](http://bit.ly/1qCtMrr) and [Chapter 9](http://bit.ly/1u7eP33)\n",
    "\n",
    "\n",
    "** NOTE **\n",
    "* Please don't forget to save the notebook frequently when working in IPython Notebook, otherwise the changes you made can be lost.\n",
    "\n",
    "*----------------------"
   ]
  },
  {
   "cell_type": "markdown",
   "metadata": {},
   "source": [
    "# Problem 1: Sampling Twitter Data with Streaming API about a certain topic"
   ]
  },
  {
   "cell_type": "markdown",
   "metadata": {},
   "source": [
    "* Select a topic that you are interested in, for example, \"WPI\" or \"Lady Gaga\"\n",
    "* Use Twitter Streaming API to sample a collection of tweets about this topic in real time. (It would be recommended that the number of tweets should be larger than 200, but smaller than 1 million.\n",
    "* Store the tweets you downloaded into a local file (txt file or json file) "
   ]
  },
  {
   "cell_type": "code",
   "execution_count": 10,
   "metadata": {},
   "outputs": [
    {
     "name": "stdout",
     "output_type": "stream",
     "text": [
      "Number of collected tweets: 1000\n"
     ]
    }
   ],
   "source": [
    "import twitter\n",
    "import json\n",
    "\n",
    "\n",
    "# ---------------------------------------------\n",
    "# Define a Function to Login Twitter API\n",
    "def oauth_login():\n",
    "    # Go to http://twitter.com/apps/new to create an app and get values\n",
    "    # for these credentials that you'll need to provide in place of these\n",
    "    # empty string values that are defined as placeholders.\n",
    "    # See https://dev.twitter.com/docs/auth/oauth for more information\n",
    "    # on Twitter's OAuth implementation.\n",
    "\n",
    "    CONSUMER_KEY = 'PoOx77O7x6QGWSZJUyPdXK9ci'\n",
    "    CONSUMER_SECRET = 'ao8VoGR1WwOkjU7ASXQBfTD8IFL9P50R6CzlCW0tFqc1Vx6ifl'\n",
    "    OAUTH_TOKEN = '354812054-MNiHp7kIJj8gMX1qKkWR7rd5VogbzIPNiGRQW1uD'\n",
    "    OAUTH_TOKEN_SECRET = '1WbpfZfexiwxHMt804MQI98iBpYeBrCKaiIAXjlBvpZmH'\n",
    "\n",
    "    auth = twitter.oauth.OAuth(OAUTH_TOKEN, OAUTH_TOKEN_SECRET,\n",
    "                               CONSUMER_KEY, CONSUMER_SECRET)\n",
    "\n",
    "    twitter_api = twitter.Twitter(auth=auth)\n",
    "    return twitter_api\n",
    "\n",
    "\n",
    "# ----------------------------------------------\n",
    "# Your code starts here\n",
    "#   Please add comments or text cells in between to explain the general idea of each block of the code.\n",
    "#   Please feel free to add more cells below this cell if necessary\n",
    "\n",
    "def tweet_stream(q, max):\n",
    "    auth = oauth_login().auth\n",
    "    # open a json file to save tweets\n",
    "    file = open(q + '.json', 'w')\n",
    "    twitter_stream = twitter.TwitterStream(auth=auth)\n",
    "    # use the twitter stream api\n",
    "    iterator = twitter_stream.statuses.filter(track=q)\n",
    "    tweets = []\n",
    "    for tweet in iterator:\n",
    "        # check the number of tweets\n",
    "        if len(tweets) >= max:\n",
    "            break\n",
    "        tweets.append(tweet)\n",
    "    # write data to file\n",
    "    data = json.dumps(tweets, indent=1)\n",
    "    file.write(data)\n",
    "    file.close()\n",
    "    with open(q + '.json', 'r') as f:\n",
    "        d = json.loads(f.read())\n",
    "        print('Number of collected tweets: %d' % len(d))\n",
    "\n",
    "\n",
    "tweet_stream('September11', 1000)\n"
   ]
  },
  {
   "cell_type": "markdown",
   "metadata": {},
   "source": [
    "### Report some statistics about the tweets you collected \n",
    "\n",
    "* The topic of interest: < INSERT YOUR TOPIC HERE>\n",
    "\n",
    "\n",
    "* The total number of tweets collected:  < INSERT THE NUMBER HERE>"
   ]
  },
  {
   "cell_type": "markdown",
   "metadata": {},
   "source": [
    "*-----------------------"
   ]
  },
  {
   "cell_type": "markdown",
   "metadata": {},
   "source": [
    "# Problem 2: Analyzing Tweets and Tweet Entities with Frequency Analysis\n",
    "\n",
    "**1. Word Count:** \n",
    "* Use the tweets you collected in Problem 1, and compute the frequencies of the words being used in these tweets. \n",
    "* Plot a table of the top 30 words with their counts"
   ]
  },
  {
   "cell_type": "code",
   "execution_count": 14,
   "metadata": {},
   "outputs": [
    {
     "name": "stdout",
     "output_type": "stream",
     "text": [
      "+----------------+-----------+\n",
      "|      word      | frequency |\n",
      "+----------------+-----------+\n",
      "|       RT       |    809    |\n",
      "|  September11   |    647    |\n",
      "|  NeverForget   |    354    |\n",
      "|      lost      |    175    |\n",
      "|    remember    |    171    |\n",
      "|     lives      |    138    |\n",
      "|       16       |    130    |\n",
      "|      amp       |    124    |\n",
      "|     years      |    123    |\n",
      "|     Today      |    114    |\n",
      "|      ago       |    103    |\n",
      "|      9/11      |     91    |\n",
      "|       🇺🇸       |     80    |\n",
      "|      day       |     71    |\n",
      "|      2001      |     71    |\n",
      "|  neverforget   |     59    |\n",
      "|   September    |     58    |\n",
      "|     Trump      |     56    |\n",
      "|      11th      |     55    |\n",
      "| HistoryToLearn |     54    |\n",
      "|     today      |     54    |\n",
      "|       us       |     54    |\n",
      "|     never      |     51    |\n",
      "|   responders   |     49    |\n",
      "|     United     |     47    |\n",
      "|     stand      |     47    |\n",
      "|     honor      |     47    |\n",
      "|     first      |     44    |\n",
      "|      much      |     44    |\n",
      "|     forget     |     43    |\n",
      "+----------------+-----------+\n"
     ]
    }
   ],
   "source": [
    "#----------------------------------------------\n",
    "# Your code starts here\n",
    "#   Please add comments or text cells in between to explain the general idea of each block of the code.\n",
    "#   Please feel free to add more cells below this cell if necessary\n",
    "\n",
    "from prettytable import PrettyTable\n",
    "import string\n",
    "from nltk.tokenize import word_tokenize\n",
    "from nltk.corpus import stopwords\n",
    "\n",
    "stop_words = stopwords.words('english') + list(string.punctuation) + ['https', 'http', '//t.…', \"''\", '``', \"'s\"]\n",
    "\n",
    "def count_words(data):\n",
    "    words_count = {}\n",
    "    for tweet in data:\n",
    "        sentences = tweet['text']\n",
    "        words = word_tokenize(sentences)\n",
    "        for word in words:\n",
    "            if word.lower() not in stop_words:\n",
    "                words_count[word] = words_count.get(word, 0) + 1\n",
    "    return words_count\n",
    "\n",
    "all_tweets = load_json('September11.json')\n",
    "count = count_words(all_tweets)\n",
    "sorted_count = sorted(count.items(), key=lambda d:d[1], reverse=True)\n",
    "\n",
    "frequency_pt = PrettyTable(field_names = ['word', 'frequency'])\n",
    "[frequency_pt.add_row(kv) for kv in sorted_count[:30]]\n",
    "print(frequency_pt)\n",
    "\n",
    "\n",
    "\n",
    "\n",
    "\n"
   ]
  },
  {
   "cell_type": "markdown",
   "metadata": {},
   "source": [
    "**2. Find the most popular tweets in your collection of tweets**\n",
    "\n",
    "Please plot a table of the top 10 tweets that are the most popular among your collection, i.e., the tweets with the largest number of retweet counts.\n"
   ]
  },
  {
   "cell_type": "code",
   "execution_count": 15,
   "metadata": {},
   "outputs": [
    {
     "name": "stdout",
     "output_type": "stream",
     "text": [
      "retweeted_number:  8198 \t tweet_text:  RT @mark_wahlberg: United we stand. #neverforget #September11 https://t.co/YzEMh6rkRd\n",
      "retweeted_number:  4613 \t tweet_text:  RT @BillClinton: We are united in remembering those we lost, their families, and the heroic first responders in NY, VA, PA, and across Amer…\n",
      "retweeted_number:  4014 \t tweet_text:  RT @HistoryToLearn: Today we remember the lives that were lost, 16 years ago, on September 11th, 2001. #NeverForget #September11 https://t.…\n",
      "retweeted_number:  3972 \t tweet_text:  RT @MilitaryEarth: It's been 16 years, and I'll never forget! Let's all take a moment to remember this day. 🇺🇸 #September11… \n",
      "retweeted_number:  3026 \t tweet_text:  RT @AlwaysActions: #EricBolling: \"Stand up and\n",
      "show some respect for your\n",
      "country, or get the hell out\"\n",
      "\n",
      "#MAGA #AmericaFirst 🚨🇺🇸… \n",
      "retweeted_number:  2514 \t tweet_text:  RT @AmirAminiMD: RIP to all terror victims who lost their lives on #September11.\n",
      "Also RIP to 1.1M Iraqis who had absolutely nothing to do w…\n",
      "retweeted_number:  2176 \t tweet_text:  RT @FBI: Today, we remember those who lost their lives in the #September11 attacks. This flag is from Ground Zero in NYC.… \n",
      "retweeted_number:  2082 \t tweet_text:  RT @NBCNightlyNews: 16 years ago today...\n",
      "\n",
      "#September11 #NeverForget https://t.co/xRDk0Y4vF9\n",
      "retweeted_number:  1882 \t tweet_text:  RT @DonnieWahlberg: As we #remember the fallen and the courageous today, let's also #remember the way Americans came together as one.… \n",
      "retweeted_number:  1827 \t tweet_text:  RT @NYPD10Pct: Today we remember all those that perished on this day 16 years ago. We will #NeverForget you. #September11 https://t.co/F1Mp…\n"
     ]
    }
   ],
   "source": [
    "#----------------------------------------------\n",
    "# Your code starts here\n",
    "#   Please add comments or text cells in between to explain the general idea of each block of the code.\n",
    "#   Please feel free to add more cells below this cell if necessary\n",
    "\n",
    "def count_sort_retweets(statuses):\n",
    "    retweets_count = {}\n",
    "    for tweet in statuses:\n",
    "        if 'retweeted_status' in tweet.keys() and 'retweet_count' in tweet[\"retweeted_status\"].keys():\n",
    "            if tweet['text'] not in retweets_count.values():\n",
    "                retweets_count[tweet['retweeted_status']['retweet_count']] = tweet['text']\n",
    "    sorted_retweets_count = sorted(retweets_count.items(), key=lambda d:d[0], reverse=True)\n",
    "    return sorted_retweets_count\n",
    "\n",
    "tweets_data = load_json('September11.json')\n",
    "retweets_count = count_sort_retweets(tweets_data)\n",
    "for item in retweets_count[:10]:\n",
    "    print(\"retweeted_number: \", item[0], \"\\t\",\"tweet_text: \", item[1])\n",
    "\n"
   ]
  },
  {
   "cell_type": "markdown",
   "metadata": {},
   "source": [
    "**3. Find the most popular Tweet Entities in your collection of tweets**\n",
    "\n",
    "Please plot a table of the top 10 hashtags, top 10 user mentions that are the most popular in your collection of tweets."
   ]
  },
  {
   "cell_type": "code",
   "execution_count": 16,
   "metadata": {},
   "outputs": [
    {
     "name": "stdout",
     "output_type": "stream",
     "text": [
      "+------------------+-----------+\n",
      "|     hashtag      | frequency |\n",
      "+------------------+-----------+\n",
      "|   September11    |    679    |\n",
      "|   NeverForget    |    391    |\n",
      "|   neverforget    |     63    |\n",
      "|  September11th   |     29    |\n",
      "|  NeverForget911  |     22    |\n",
      "|   september11    |     19    |\n",
      "| MondayMotivation |     17    |\n",
      "|  911remembrance  |     14    |\n",
      "|     Respect      |     13    |\n",
      "|   Remember911    |     12    |\n",
      "+------------------+-----------+\n",
      "+-----------------+-----------+\n",
      "|  user mentions  | frequency |\n",
      "+-----------------+-----------+\n",
      "|  HistoryToLearn |     54    |\n",
      "|  mark_wahlberg  |     39    |\n",
      "|      AmyMek     |     37    |\n",
      "| realDonaldTrump |     28    |\n",
      "|  MilitaryEarth  |     26    |\n",
      "|      funder     |     26    |\n",
      "|       FBI       |     17    |\n",
      "|  MAGGunslinger  |     16    |\n",
      "|       Mets      |     16    |\n",
      "|      POTUS      |     14    |\n",
      "+-----------------+-----------+\n"
     ]
    }
   ],
   "source": [
    "#----------------------------------------------\n",
    "# Your code starts here\n",
    "#   Please add comments or text cells in between to explain the general idea of each block of the code.\n",
    "#   Please feel free to add more cells below this cell if necessary\n",
    "\n",
    "\n",
    "from prettytable import PrettyTable\n",
    "\n",
    "def count_sort_hashtags_and_user_mentions(statuses):\n",
    "    hashtags_count = {}\n",
    "    user_mentions_count = {}\n",
    "    for tweet in statuses:\n",
    "        if 'entities' in tweet.keys() and len(tweet['entities']['hashtags']) != 0:\n",
    "            for hashtag in tweet['entities']['hashtags']:\n",
    "                hashtags_count[hashtag['text']] = hashtags_count.get(hashtag['text'], 0) + 1\n",
    "        if 'entities' in tweet.keys() and len(tweet['entities']['user_mentions']) != 0:\n",
    "            for user_mention in tweet['entities']['user_mentions']:\n",
    "                user_mentions_count[user_mention['screen_name']] = user_mentions_count.get(user_mention['screen_name'], 0) + 1\n",
    "                \n",
    "    sorted_hashtags_count = sorted(hashtags_count.items(), key=lambda d:d[1], reverse=True)\n",
    "    sorted_user_mentions_count = sorted(user_mentions_count.items(), key=lambda d:d[1], reverse=True)\n",
    "    return sorted_hashtags_count, sorted_user_mentions_count\n",
    "\n",
    "tweets_data = load_json('September11.json')\n",
    "hashtags_count, user_mentions_count = count_sort_hashtags_and_user_mentions(tweets_data)\n",
    "\n",
    "hashtags_pt = PrettyTable(field_names = ['hashtag', 'frequency'])\n",
    "[hashtags_pt.add_row(kv) for kv in hashtags_count[:10]]\n",
    "user_mentions_pt = PrettyTable(field_names = ['user mentions', 'frequency'])\n",
    "[user_mentions_pt.add_row(kv) for kv in user_mentions_count[:10]]\n",
    "\n",
    "print(hashtags_pt)\n",
    "print(user_mentions_pt)\n",
    "\n",
    "\n"
   ]
  },
  {
   "cell_type": "markdown",
   "metadata": {},
   "source": [
    "* ------------------------\n",
    "\n",
    "# Problem 3: Getting \"All\" friends and \"All\" followers of a popular user in twitter\n"
   ]
  },
  {
   "cell_type": "markdown",
   "metadata": {},
   "source": [
    "* choose a popular twitter user who has many followers, such as \"ladygaga\".\n",
    "* Get the list of all friends and all followers of the twitter user.\n",
    "* Plot 20 out of the followers, plot their ID numbers and screen names in a table.\n",
    "* Plot 20 out of the friends (if the user has more than 20 friends), plot their ID numbers and screen names in a table."
   ]
  },
  {
   "cell_type": "code",
   "execution_count": null,
   "metadata": {
    "collapsed": true
   },
   "outputs": [],
   "source": [
    "#----------------------------------------------\n",
    "# Your code starts here\n",
    "#   Please add comments or text cells in between to explain the general idea of each block of the code.\n",
    "#   Please feel free to add more cells below this cell if necessary\n",
    "\n",
    "\n",
    "\n",
    "\n",
    "\n"
   ]
  },
  {
   "cell_type": "markdown",
   "metadata": {},
   "source": [
    "* Compute the mutual friends within the two groups, i.e., the users who are in both friend list and follower list, plot their ID numbers and screen names in a table"
   ]
  },
  {
   "cell_type": "code",
   "execution_count": null,
   "metadata": {
    "collapsed": true
   },
   "outputs": [],
   "source": [
    "#----------------------------------------------\n",
    "# Your code starts here\n",
    "#   Please add comments or text cells in between to explain the general idea of each block of the code.\n",
    "#   Please feel free to add more cells below this cell if necessary\n",
    "\n",
    "\n",
    "\n",
    "\n",
    "\n",
    "\n"
   ]
  },
  {
   "cell_type": "markdown",
   "metadata": {},
   "source": [
    "*------------------------\n",
    "\n",
    "# Problem 4: Business question \n",
    "\n",
    "Run some additional experiments with your data to gain familiarity with the twitter data and twitter API.\n",
    "\n",
    "* Come up with a business question that Twitter data could help answer.\n",
    "* Decribe the business case.\n",
    "* How could Twitter data help a company decide how to spend its resources."
   ]
  },
  {
   "cell_type": "code",
   "execution_count": null,
   "metadata": {
    "collapsed": true
   },
   "outputs": [],
   "source": [
    "#----------------------------------------------\n",
    "# Your code starts here\n",
    "#   Please add comments or text cells in between to explain the general idea of each block of the code.\n",
    "#   Please feel free to add more cells below this cell if necessary\n",
    "\n",
    "\n",
    "\n"
   ]
  },
  {
   "cell_type": "markdown",
   "metadata": {},
   "source": [
    "*-----------------\n",
    "# Done\n",
    "\n",
    "All set! \n",
    "\n",
    "** What do you need to submit?**\n",
    "\n",
    "* **Notebook File**: Save this IPython notebook, and find the notebook file in your folder (for example, \"filename.ipynb\"). This is the file you need to submit. Please make sure all the plotted tables and figures are in the notebook. If you used \"ipython notebook --pylab=inline\" to open the notebook, all the figures and tables should have shown up in the notebook.\n",
    "\n",
    "\n",
    "* **PPT Slides**: please prepare PPT slides (for 10 minutes' talk) to present about the case study . We will ask two teams which are randomly selected to present their case studies in class for this case study. \n",
    "\n",
    "* ** Report**: please prepare a report (less than 10 pages) to report what you found in the data.\n",
    "    * What data you collected? \n",
    "    * Why this topic is interesting or important to you? (Motivations)\n",
    "    * How did you analyse the data?\n",
    "    * What did you find in the data? \n",
    " \n",
    "     (please include figures or tables in the report, but no source code)\n",
    "\n",
    "Please compress all the files in a zipped file.\n",
    "\n",
    "\n",
    "** How to submit: **\n",
    "\n",
    "        Please submit through email to Prof. Paffenroth (rcpaffenroth@wpi.edu) *and* the TA Yingnan Liu (yliu18@wpi.edu).\n",
    "\n",
    "#### We auto-process the submissions so make sure your subject line is *exactly*:\n",
    "\n",
    "### DS501 Case Study 1 Team ??\n",
    "\n",
    "#### where ?? is your team number.\n",
    "        \n",
    "** Note: Each team just needs to submits one submission **"
   ]
  },
  {
   "cell_type": "markdown",
   "metadata": {},
   "source": [
    "# Grading Criteria:\n",
    "\n",
    "** Totoal Points: 120 **\n",
    "\n",
    "\n",
    "---------------------------------------------------------------------------\n",
    "** Notebook:  **\n",
    "    Points: 80\n",
    "\n",
    "\n",
    "    -----------------------------------\n",
    "    Qestion 1:\n",
    "    Points: 20\n",
    "    -----------------------------------\n",
    "    \n",
    "    (1) Select a topic that you are interested in.\n",
    "    Points: 6 \n",
    "    \n",
    "    (2) Use Twitter Streaming API to sample a collection of tweets about this topic in real time. (It would be recommended that the number of tweets should be larger than 200, but smaller than 1 million. Please check whether the total number of tweets collected is larger than 200?\n",
    "    Points: 10 \n",
    "    \n",
    "    \n",
    "    (3) Store the tweets you downloaded into a local file (txt file or json file)\n",
    "    Points: 4 \n",
    "    \n",
    "    \n",
    "    -----------------------------------\n",
    "    Qestion 2:\n",
    "    Points: 20\n",
    "    -----------------------------------\n",
    "    \n",
    "    1. Word Count\n",
    "\n",
    "    (1) Use the tweets you collected in Problem 1, and compute the frequencies of the words being used in these tweets.\n",
    "    Points: 4 \n",
    "\n",
    "    (2) Plot a table of the top 30 words with their counts \n",
    "    Points: 4 \n",
    "    \n",
    "    2. Find the most popular tweets in your collection of tweets\n",
    "    plot a table of the top 10 tweets that are the most popular among your collection, i.e., the tweets with the largest number of retweet counts.\n",
    "    Points: 4 \n",
    "    \n",
    "    3. Find the most popular Tweet Entities in your collection of tweets\n",
    "\n",
    "    (1) plot a table of the top 10 hashtags, \n",
    "    Points: 4 \n",
    "\n",
    "    (2) top 10 user mentions that are the most popular in your collection of tweets.\n",
    "    Points: 4 \n",
    "    \n",
    "    \n",
    "    -----------------------------------\n",
    "    Qestion 3:\n",
    "    Points: 20\n",
    "    -----------------------------------\n",
    "    \n",
    "    (1) choose a popular twitter user who has many followers, such as \"ladygaga\".\n",
    "    Points: 4 \n",
    "\n",
    "    (2) Get the list of all friends and all followers of the twitter user.\n",
    "    Points: 4 \n",
    "\n",
    "    (3) Plot 20 out of the followers, plot their ID numbers and screen names in a table.\n",
    "    Points: 4 \n",
    "\n",
    "    (4) Plot 20 out of the friends (if the user has more than 20 friends), plot their ID numbers and screen names in a table.\n",
    "    Points: 4 \n",
    "    \n",
    "    (5) Compute the mutual friends within the two groups, i.e., the users who are in both friend list and follower list, plot their ID numbers and screen names in a table\n",
    "    Points: 4 \n",
    "  \n",
    "    -----------------------------------\n",
    "    Qestion 4:  Business question\n",
    "    Points: 20\n",
    "    -----------------------------------\n",
    "        Novelty: 10\n",
    "        Interestingness: 10\n",
    "    -----------------------------------\n",
    "    Run some additional experiments with your data to gain familiarity with the twitter data ant twitter API.  Come up with a business question and describe how Twitter data can help you answer that question.\n",
    "\n",
    "\n",
    "\n",
    "\n",
    "---------------------------------------------------------------------------\n",
    "** Report: communicate the results**\n",
    "    Points: 20\n",
    "\n",
    "(1) What data you collected?\n",
    "    Points: 5 \n",
    "\n",
    "(2) Why this topic is interesting or important to you? (Motivations)\n",
    "    Points: 5 \n",
    "\n",
    "(3) How did you analyse the data?\n",
    "    Points: 5 \n",
    "\n",
    "(4) What did you find in the data?\n",
    "(please include figures or tables in the report, but no source code)\n",
    "    Points: 5 \n",
    "\n",
    "\n",
    "\n",
    "---------------------------------------------------------------------------\n",
    "** Slides (for 10 minutes of presentation): Story-telling **\n",
    "    Points: 20\n",
    "\n",
    "\n",
    "1. Motivation about the data collection, why the topic is interesting to you.\n",
    "    Points: 5 \n",
    "\n",
    "2. Communicating Results (figure/table)\n",
    "    Points: 10 \n",
    "\n",
    "3. Story telling (How all the parts (data, analysis, result) fit together as a story?)\n",
    "    Points: 5 \n",
    "\n"
   ]
  },
  {
   "cell_type": "code",
   "execution_count": null,
   "metadata": {
    "collapsed": true
   },
   "outputs": [],
   "source": []
  }
 ],
 "metadata": {
  "anaconda-cloud": {},
  "kernel_info": {
   "name": "python3"
  },
  "kernelspec": {
   "display_name": "Python 3",
   "language": "python",
   "name": "python3"
  },
  "language_info": {
   "codemirror_mode": {
    "name": "ipython",
    "version": 3
   },
   "file_extension": ".py",
   "mimetype": "text/x-python",
   "name": "python",
   "nbconvert_exporter": "python",
   "pygments_lexer": "ipython3",
   "version": "3.6.1"
  },
  "nteract": {
   "version": "0.2.0"
  }
 },
 "nbformat": 4,
 "nbformat_minor": 1
}
